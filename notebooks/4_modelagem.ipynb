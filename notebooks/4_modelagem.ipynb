{
 "cells": [
  {
   "cell_type": "code",
   "execution_count": null,
   "id": "5a0b1df2",
   "metadata": {},
   "outputs": [],
   "source": [
    "import pandas as pd\n",
    "from sklearn.model_selection import train_test_split\n",
    "from sklearn.linear_model import LinearRegression\n",
    "from sklearn.metrics import mean_squared_error, r2_score\n",
    "from sklearn.preprocessing import OneHotEncoder\n",
    "from sklearn.compose import ColumnTransformer\n",
    "from sklearn.pipeline import Pipeline\n",
    "\n",
    "df = pd.read_csv(\"data/leiteintel_base_ampliada.csv\")\n",
    "\n",
    "X = df[[\"temperatura_media\", \"chuvas_mm\", \"preco_litro\", \"tipo_producao\"]]\n",
    "y = df[\"producao_litros\"]\n",
    "\n",
    "preproc = ColumnTransformer([\n",
    "    (\"onehot\", OneHotEncoder(), [\"tipo_producao\"])\n",
    "], remainder=\"passthrough\")\n",
    "\n",
    "modelo = Pipeline([\n",
    "    (\"prep\", preproc),\n",
    "    (\"reg\", LinearRegression())\n",
    "])\n",
    "\n",
    "X_train, X_test, y_train, y_test = train_test_split(X, y, test_size=0.2, random_state=42)\n",
    "modelo.fit(X_train, y_train)\n",
    "\n",
    "y_pred = modelo.predict(X_test)\n",
    "\n",
    "print(\"R²:\", r2_score(y_test, y_pred))\n",
    "print(\"RMSE:\", mean_squared_error(y_test, y_pred, squared=False))\n"
   ]
  }
 ],
 "metadata": {
  "language_info": {
   "name": "python"
  }
 },
 "nbformat": 4,
 "nbformat_minor": 5
}
