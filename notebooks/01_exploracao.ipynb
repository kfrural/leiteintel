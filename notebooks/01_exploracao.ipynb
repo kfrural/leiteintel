{
 "cells": [
  {
   "cell_type": "code",
   "execution_count": null,
   "id": "dd3e07f8",
   "metadata": {},
   "outputs": [],
   "source": [
    "import pandas as pd\n",
    "import seaborn as sns\n",
    "import matplotlib.pyplot as plt\n",
    "\n",
    "df = pd.read_csv('../data/leiteintel_base_ampliada.csv')\n",
    "print(df.head())\n",
    "print(df.describe(include='all'))\n",
    "\n",
    "# Produção por tipo de tecnologia\n",
    "sns.boxplot(data=df, x='uso_tecnologia', y='producao_litros')\n",
    "plt.title(\"Produção por uso de tecnologia\")\n",
    "plt.show()\n"
   ]
  }
 ],
 "metadata": {
  "language_info": {
   "name": "python"
  }
 },
 "nbformat": 4,
 "nbformat_minor": 5
}
