{
 "cells": [
  {
   "cell_type": "code",
   "execution_count": null,
   "id": "4ee82613",
   "metadata": {},
   "outputs": [],
   "source": [
    "# Tratamento\n",
    "df['mes'] = df['mes'].astype(int)\n",
    "df['ano'] = df['ano'].astype(int)\n",
    "\n",
    "# Agrupar por média anual/mensal\n",
    "df_grouped = df.groupby(['estado', 'ano', 'mes']).mean().reset_index()\n",
    "\n",
    "# Normalização\n",
    "from sklearn.preprocessing import StandardScaler\n",
    "features = ['producao_litros', 'temperatura_media', 'chuvas_mm', 'preco_litro']\n",
    "scaler = StandardScaler()\n",
    "df_scaled = scaler.fit_transform(df_grouped[features])\n"
   ]
  }
 ],
 "metadata": {
  "language_info": {
   "name": "python"
  }
 },
 "nbformat": 4,
 "nbformat_minor": 5
}
