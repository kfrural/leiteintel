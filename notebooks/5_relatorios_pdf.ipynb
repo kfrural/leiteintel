{
 "cells": [
  {
   "cell_type": "code",
   "execution_count": null,
   "id": "5f70891b",
   "metadata": {},
   "outputs": [],
   "source": [
    "from fpdf import FPDF\n",
    "\n",
    "pdf = FPDF()\n",
    "pdf.add_page()\n",
    "pdf.set_font(\"Arial\", size=12)\n",
    "\n",
    "pdf.cell(200, 10, txt=\"Relatório LeiteIntel\", ln=True, align='C')\n",
    "pdf.multi_cell(0, 10, txt=\"\"\"\n",
    "Este relatório resume os principais achados da análise da produção leiteira por estado e ano. \n",
    "Foram considerados fatores como clima, tipo de produção, e uso de tecnologia.\n",
    "\n",
    "Resultados indicam que estados com maior uso de tecnologia tendem a apresentar melhor rendimento por litro.\n",
    "\"\"\")\n",
    "\n",
    "pdf.output(\"relatorio_exemplo.pdf\")\n"
   ]
  }
 ],
 "metadata": {
  "language_info": {
   "name": "python"
  }
 },
 "nbformat": 4,
 "nbformat_minor": 5
}
