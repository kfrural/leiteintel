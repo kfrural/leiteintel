{
 "cells": [
  {
   "cell_type": "code",
   "execution_count": null,
   "id": "8749b776",
   "metadata": {},
   "outputs": [],
   "source": [
    "# notebooks/04_modelagem_previsao.ipynb\n",
    "\n",
    "import pandas as pd\n",
    "from sklearn.pipeline import Pipeline\n",
    "from sklearn.linear_model import LinearRegression\n",
    "from sklearn.compose import ColumnTransformer\n",
    "from sklearn.preprocessing import OneHotEncoder\n",
    "from sklearn.model_selection import train_test_split\n",
    "from sklearn.metrics import mean_squared_error\n",
    "\n",
    "base = pd.read_csv(\"../data/processed/leiteintel_base_limpa.csv\")\n",
    "\n",
    "X = base[[\"temperatura_media\", \"chuvas_mm\", \"preco_litro\", \"tipo_producao\"]]\n",
    "y = base[\"producao_litros\"]\n",
    "\n",
    "X_train, X_test, y_train, y_test = train_test_split(X, y, test_size=0.2, random_state=42)\n",
    "\n",
    "preprocessador = ColumnTransformer([\n",
    "    (\"onehot\", OneHotEncoder(), [\"tipo_producao\"])\n",
    "], remainder='passthrough')\n",
    "\n",
    "pipeline = Pipeline([\n",
    "    (\"prep\", preprocessador),\n",
    "    (\"reg\", LinearRegression())\n",
    "])\n",
    "\n",
    "pipeline.fit(X_train, y_train)\n",
    "\n",
    "y_pred = pipeline.predict(X_test)\n",
    "print(\"MSE:\", mean_squared_error(y_test, y_pred))"
   ]
  }
 ],
 "metadata": {
  "language_info": {
   "name": "python"
  }
 },
 "nbformat": 4,
 "nbformat_minor": 5
}
