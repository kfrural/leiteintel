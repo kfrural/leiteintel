{
 "cells": [
  {
   "cell_type": "code",
   "execution_count": null,
   "id": "8bc6b135",
   "metadata": {},
   "outputs": [],
   "source": [
    "# 3_analise_exploratoria.ipynb\n",
    "import pandas as pd\n",
    "import seaborn as sns\n",
    "import matplotlib.pyplot as plt\n",
    "\n",
    "df = pd.read_csv(\"data/leiteintel_base_ampliada.csv\")\n",
    "\n",
    "# Gráfico de produção ao longo dos meses\n",
    "sns.lineplot(data=df, x=\"mes\", y=\"producao_litros\", hue=\"tipo_producao\")\n",
    "plt.title(\"Produção mensal por tipo de produção\")\n",
    "plt.show()\n",
    "\n",
    "\n",
    "sns.heatmap(df.corr(numeric_only=True), annot=True, cmap=\"coolwarm\")\n",
    "plt.title(\"Correlação entre Variáveis\")\n"
   ]
  }
 ],
 "metadata": {
  "language_info": {
   "name": "python"
  }
 },
 "nbformat": 4,
 "nbformat_minor": 5
}
