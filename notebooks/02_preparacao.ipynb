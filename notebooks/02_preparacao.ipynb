{
 "cells": [
  {
   "cell_type": "code",
   "execution_count": null,
   "id": "4ee82613",
   "metadata": {},
   "outputs": [],
   "source": [
    "from sklearn.preprocessing import StandardScaler, OneHotEncoder\n",
    "from sklearn.compose import ColumnTransformer\n",
    "from sklearn.pipeline import Pipeline\n",
    "\n",
    "# Seleção das colunas para modelagem\n",
    "features_numericas = ['producao_litros', 'temperatura_media', 'chuvas_mm', 'preco_litro']\n",
    "features_categoricas = ['tipo_producao', 'uso_tecnologia', 'qualidade_pasto', 'estado', 'regiao']\n",
    "\n",
    "# Pipeline de transformação\n",
    "preprocessor = ColumnTransformer([\n",
    "    ('num', StandardScaler(), features_numericas),\n",
    "    ('cat', OneHotEncoder(), features_categoricas)\n",
    "])\n",
    "\n",
    "df_limpo = df.drop(columns=['ano', 'mes', 'dia'])\n",
    "dados_transformados = preprocessor.fit_transform(df_limpo)\n"
   ]
  }
 ],
 "metadata": {
  "language_info": {
   "name": "python"
  }
 },
 "nbformat": 4,
 "nbformat_minor": 5
}
