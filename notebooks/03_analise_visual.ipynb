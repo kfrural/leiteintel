{
 "cells": [
  {
   "cell_type": "code",
   "execution_count": null,
   "id": "2f8dc0e0",
   "metadata": {},
   "outputs": [],
   "source": [
    "# notebooks/03_analise_visual.ipynb\n",
    "\n",
    "import pandas as pd\n",
    "import seaborn as sns\n",
    "import matplotlib.pyplot as plt\n",
    "\n",
    "base = pd.read_csv(\"../data/processed/leiteintel_base_limpa.csv\")\n",
    "\n",
    "# Análise por ano\n",
    "sns.lineplot(data=base, x=\"ano\", y=\"producao_litros\", ci=None)\n",
    "plt.title(\"Evolução da Produção de Leite por Ano\")\n",
    "plt.show()\n",
    "\n",
    "# Por tipo de produção\n",
    "sns.barplot(data=base, x=\"tipo_producao\", y=\"producao_litros\", ci=None)\n",
    "plt.title(\"Produção Média por Tipo\")\n",
    "plt.show()"
   ]
  },
  {
   "cell_type": "code",
   "execution_count": null,
   "id": "d1ae9d6c",
   "metadata": {
    "vscode": {
     "languageId": "plaintext"
    }
   },
   "outputs": [],
   "source": []
  }
 ],
 "metadata": {
  "language_info": {
   "name": "python"
  }
 },
 "nbformat": 4,
 "nbformat_minor": 5
}
