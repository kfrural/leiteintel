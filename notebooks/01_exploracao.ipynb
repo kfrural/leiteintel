{
 "cells": [
  {
   "cell_type": "code",
   "execution_count": null,
   "id": "dd3e07f8",
   "metadata": {},
   "outputs": [],
   "source": [
    "# notebooks/01_exploracao.ipynb\n",
    "\n",
    "# Exploratory Data Analysis\n",
    "import pandas as pd\n",
    "import seaborn as sns\n",
    "import matplotlib.pyplot as plt\n",
    "\n",
    "# Carregar base\n",
    "base = pd.read_csv(\"../data/leiteintel_base_ampliada.csv\")\n",
    "\n",
    "# Estatísticas iniciais\n",
    "print(base.describe())\n",
    "print(base.info())\n",
    "\n",
    "print(base.isnull().sum())\n",
    "\n",
    "sns.boxplot(data=base, x=\"estado\", y=\"producao_litros\")\n",
    "plt.title(\"Distribuição da Produção por Estado\")\n",
    "plt.xticks(rotation=90)\n",
    "plt.show()\n",
    "\n",
    "sns.heatmap(base.corr(numeric_only=True), annot=True, cmap=\"Blues\")\n",
    "plt.title(\"Correlação entre Variáveis\")\n",
    "plt.show()"
   ]
  }
 ],
 "metadata": {
  "language_info": {
   "name": "python"
  }
 },
 "nbformat": 4,
 "nbformat_minor": 5
}
