{
 "cells": [
  {
   "cell_type": "code",
   "execution_count": null,
   "id": "373dae62",
   "metadata": {},
   "outputs": [],
   "source": [
    "from sklearn.cluster import KMeans\n",
    "import matplotlib.pyplot as plt\n",
    "\n",
    "# Encontrar número ideal de clusters\n",
    "inertia = []\n",
    "for k in range(2, 10):\n",
    "    kmeans = KMeans(n_clusters=k, random_state=0).fit(df_scaled)\n",
    "    inertia.append(kmeans.inertia_)\n",
    "\n",
    "plt.plot(range(2, 10), inertia)\n",
    "plt.xlabel(\"K\")\n",
    "plt.ylabel(\"Inércia\")\n",
    "plt.title(\"Elbow Method\")\n",
    "plt.show()\n",
    "\n",
    "# Aplicar modelo\n",
    "kmeans = KMeans(n_clusters=4)\n",
    "df_grouped['cluster'] = kmeans.fit_predict(df_scaled)\n"
   ]
  }
 ],
 "metadata": {
  "language_info": {
   "name": "python"
  }
 },
 "nbformat": 4,
 "nbformat_minor": 5
}
