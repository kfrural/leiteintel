{
 "cells": [
  {
   "cell_type": "code",
   "execution_count": null,
   "id": "7fa95d68",
   "metadata": {},
   "outputs": [],
   "source": [
    "# notebooks/05_geracao_relatorios.ipynb\n",
    "\n",
    "import pandas as pd\n",
    "from fpdf import FPDF\n",
    "\n",
    "base = pd.read_csv(\"../data/processed/leiteintel_base_limpa.csv\")\n",
    "\n",
    "estado = \"Minas Gerais\"\n",
    "ano = 2024\n",
    "\n",
    "df_filtrado = base[(base[\"estado\"] == estado) & (base[\"ano\"] == ano)]\n",
    "\n",
    "prod_medio = df_filtrado[\"producao_litros\"].mean()\n",
    "texto = f\"\"\"\n",
    "Relatório da produção de leite\n",
    "\n",
    "Ano: {ano}\n",
    "Estado: {estado}\n",
    "Produção média: {int(prod_medio):,} litros\n",
    "\"\"\"\n",
    "\n",
    "pdf = FPDF()\n",
    "pdf.add_page()\n",
    "pdf.set_font(\"Arial\", size=12)\n",
    "pdf.multi_cell(0, 10, texto)\n",
    "pdf.output(\"../relatorios/relatorio_modelo_exemplo.pdf\")\n",
    "print(\"Relatório gerado com sucesso.\")\n"
   ]
  }
 ],
 "metadata": {
  "language_info": {
   "name": "python"
  }
 },
 "nbformat": 4,
 "nbformat_minor": 5
}
