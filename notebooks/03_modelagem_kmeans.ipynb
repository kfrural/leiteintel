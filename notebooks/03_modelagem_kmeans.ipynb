{
 "cells": [
  {
   "cell_type": "code",
   "execution_count": null,
   "id": "373dae62",
   "metadata": {},
   "outputs": [],
   "source": [
    "from sklearn.cluster import KMeans\n",
    "import matplotlib.pyplot as plt\n",
    "\n",
    "inertia = []\n",
    "for k in range(2, 10):\n",
    "    kmeans = KMeans(n_clusters=k, random_state=42).fit(dados_transformados)\n",
    "    inertia.append(kmeans.inertia_)\n",
    "\n",
    "plt.plot(range(2, 10), inertia)\n",
    "plt.xlabel(\"Número de Clusters (k)\")\n",
    "plt.ylabel(\"Inércia\")\n",
    "plt.title(\"Método do Cotovelo\")\n",
    "plt.show()\n",
    "\n",
    "modelo_final = KMeans(n_clusters=4)\n",
    "clusters = modelo_final.fit_predict(dados_transformados)\n",
    "df['cluster'] = clusters\n",
    "\n",
    "print(df.groupby('cluster')[['producao_litros', 'preco_litro']].mean())\n"
   ]
  }
 ],
 "metadata": {
  "language_info": {
   "name": "python"
  }
 },
 "nbformat": 4,
 "nbformat_minor": 5
}
