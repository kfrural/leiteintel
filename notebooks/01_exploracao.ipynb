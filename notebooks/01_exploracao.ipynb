{
 "cells": [
  {
   "cell_type": "code",
   "execution_count": null,
   "id": "dd3e07f8",
   "metadata": {},
   "outputs": [],
   "source": [
    "import pandas as pd\n",
    "import seaborn as sns\n",
    "import matplotlib.pyplot as plt\n",
    "\n",
    "df = pd.read_csv('../data/leite_data_brasil.csv')\n",
    "print(df.head())\n",
    "print(df.describe())\n",
    "\n",
    "# Visualizações\n",
    "sns.boxplot(data=df, x='estado', y='producao_litros')\n",
    "plt.title('Produção de leite por estado')\n",
    "plt.show()\n"
   ]
  }
 ],
 "metadata": {
  "language_info": {
   "name": "python"
  }
 },
 "nbformat": 4,
 "nbformat_minor": 5
}
