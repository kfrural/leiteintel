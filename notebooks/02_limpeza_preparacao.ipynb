{
 "cells": [
  {
   "cell_type": "code",
   "execution_count": null,
   "id": "0c6f1a50",
   "metadata": {},
   "outputs": [],
   "source": [
    "# notebooks/02_limpeza_preparacao.ipynb\n",
    "\n",
    "# Limpeza e preparação\n",
    "import pandas as pd\n",
    "\n",
    "base = pd.read_csv(\"../data/leiteintel_base_ampliada.csv\")\n",
    "\n",
    "base = base.dropna()\n",
    "\n",
    "base[\"mes\"] = base[\"mes\"].astype(str)\n",
    "\n",
    "base.to_csv(\"../data/processed/leiteintel_base_limpa.csv\", index=False)\n",
    "print(\"Base limpa salva com sucesso.\")"
   ]
  }
 ],
 "metadata": {
  "language_info": {
   "name": "python"
  }
 },
 "nbformat": 4,
 "nbformat_minor": 5
}
